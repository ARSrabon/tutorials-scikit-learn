{
 "cells": [
  {
   "cell_type": "markdown",
   "metadata": {},
   "source": [
    "# Installation instructions"
   ]
  },
  {
   "cell_type": "markdown",
   "metadata": {},
   "source": [
    "1. [Download](https://www.continuum.io/downloads) the latest Anaconda distribution, coming with Python 3.5 and the full scientific Python stack. \n",
    "\n",
    "2. Install Anaconda:\n",
    "```\n",
    "bash Anaconda3-2.4.0-MacOSX-x86_64.sh\n",
    "```\n",
    "\n",
    "3. Install Jupyter notebook:\n",
    "```\n",
    "conda install jupyter\n",
    "```\n",
    "\n",
    "4. Clone this repository and start Jupyter\n",
    "```\n",
    "git clone https://github.com/glouppe/tutorial-sklearn-dslhc2015.git\n",
    "cd tutorial-sklearn-dslhc2015\n",
    "jupyter notebook\n",
    "```"
   ]
  }
 ],
 "metadata": {
  "kernelspec": {
   "display_name": "Python 3",
   "language": "python",
   "name": "python3"
  },
  "language_info": {
   "codemirror_mode": {
    "name": "ipython",
    "version": 3
   },
   "file_extension": ".py",
   "mimetype": "text/x-python",
   "name": "python",
   "nbconvert_exporter": "python",
   "pygments_lexer": "ipython3",
   "version": "3.5.0"
  }
 },
 "nbformat": 4,
 "nbformat_minor": 0
}
