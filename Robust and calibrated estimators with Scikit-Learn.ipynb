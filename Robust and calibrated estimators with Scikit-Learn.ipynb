{
 "cells": [
  {
   "cell_type": "markdown",
   "metadata": {
    "slideshow": {
     "slide_type": "slide"
    }
   },
   "source": [
    "<center>\n",
    "    <img src=\"img/scikit-learn-logo.png\" width=\"40%\" />\n",
    "    <br />\n",
    "    <h1>Robust and calibrated estimators with Scikit-Learn</h1>\n",
    "    <br /><br />\n",
    "    Gilles Louppe (<a href=\"https://twitter.com/glouppe\">@glouppe</a>)\n",
    "    <br /><br />\n",
    "    New York University\n",
    "</center>"
   ]
  },
  {
   "cell_type": "code",
   "execution_count": 1,
   "metadata": {
    "collapsed": false,
    "slideshow": {
     "slide_type": "skip"
    }
   },
   "outputs": [],
   "source": [
    "# Global imports and settings\n",
    "\n",
    "# Matplotlib\n",
    "%matplotlib inline\n",
    "from matplotlib import pyplot as plt\n",
    "plt.rcParams[\"figure.figsize\"] = (8, 8)\n",
    "plt.rcParams[\"figure.max_open_warning\"] = -1\n",
    "\n",
    "# Print options\n",
    "import numpy as np\n",
    "np.set_printoptions(precision=3)\n",
    "\n",
    "# Slideshow\n",
    "from notebook.services.config import ConfigManager\n",
    "cm = ConfigManager()\n",
    "cm.update('livereveal', {'width': 1440, 'height': 768, 'scroll': True, 'theme': 'simple'})\n",
    "\n",
    "# Silence warnings\n",
    "import warnings\n",
    "warnings.simplefilter(action=\"ignore\", category=FutureWarning)\n",
    "warnings.simplefilter(action=\"ignore\", category=UserWarning)\n",
    "warnings.simplefilter(action=\"ignore\", category=RuntimeWarning)\n",
    "\n",
    "# Utils\n",
    "from robustness import plot_surface\n",
    "from robustness import plot_outlier_detector"
   ]
  },
  {
   "cell_type": "code",
   "execution_count": 5,
   "metadata": {
    "collapsed": false,
    "slideshow": {
     "slide_type": "skip"
    }
   },
   "outputs": [
    {
     "data": {
      "application/javascript": [
       "Reveal.addEventListener(\"slidechanged\", function(event){ window.location.hash = \"header\"; });"
      ],
      "text/plain": [
       "<IPython.core.display.Javascript object>"
      ]
     },
     "metadata": {},
     "output_type": "display_data"
    }
   ],
   "source": [
    "%%javascript\n",
    "Reveal.addEventListener(\"slidechanged\", function(event){ window.location.hash = \"header\"; });"
   ]
  },
  {
   "cell_type": "markdown",
   "metadata": {
    "slideshow": {
     "slide_type": "slide"
    }
   },
   "source": [
    "# Motivation"
   ]
  },
  {
   "cell_type": "markdown",
   "metadata": {
    "slideshow": {
     "slide_type": "fragment"
    }
   },
   "source": [
    "_In theory,_\n",
    "- Samples $x$ are drawn from a distribution $P$;\n",
    "- As data increases, convergence towards the optimal model is guaranteed. "
   ]
  },
  {
   "cell_type": "markdown",
   "metadata": {
    "slideshow": {
     "slide_type": "fragment"
    }
   },
   "source": [
    "_In practice,_\n",
    "- A few samples may be distant from other samples:\n",
    "    - either because they correspond to rare observations,\n",
    "    - or because they are due to experimental errors;\n",
    "- Data is finite:\n",
    "    - outliers might strongly affect the resulting model."
   ]
  },
  {
   "cell_type": "markdown",
   "metadata": {
    "slideshow": {
     "slide_type": "fragment"
    }
   },
   "source": [
    "_Today's goal:_ build models that are robust to outliers!"
   ]
  },
  {
   "cell_type": "markdown",
   "metadata": {
    "slideshow": {
     "slide_type": "subslide"
    }
   },
   "source": [
    "# Outline\n",
    "\n",
    "* Motivation\n",
    "* Novelty and anomaly detection\n",
    "* Ensembling for robustness \n",
    "* Robust estimators\n",
    "* Calibration"
   ]
  },
  {
   "cell_type": "markdown",
   "metadata": {
    "slideshow": {
     "slide_type": "slide"
    }
   },
   "source": [
    "# Novelty and anomaly detection"
   ]
  },
  {
   "cell_type": "markdown",
   "metadata": {
    "slideshow": {
     "slide_type": "fragment"
    }
   },
   "source": [
    "_Novelty detection:_\n",
    "- Training data is not polluted by outliers, and we are interested in detecting anomalies in new observations.\n",
    "\n",
    "_Outlier detection:_\n",
    "- Training data contains outliers, and we need to fit the central mode of the training data, ignoring the deviant observations."
   ]
  },
  {
   "cell_type": "markdown",
   "metadata": {
    "slideshow": {
     "slide_type": "subslide"
    }
   },
   "source": [
    "## API"
   ]
  },
  {
   "cell_type": "code",
   "execution_count": null,
   "metadata": {
    "collapsed": false
   },
   "outputs": [],
   "source": [
    "# Unsupervised learning (no 'y_train')\n",
    "clf.fit(X_train)\n",
    "\n",
    "# Detecting novelty or outliers \n",
    "y_pred = clf.predict(X_test)             # inliers == 1, outliers == -1\n",
    "y_score = clf.decision_function(X_test)  # outliers == highest scores"
   ]
  },
  {
   "cell_type": "code",
   "execution_count": 6,
   "metadata": {
    "collapsed": true,
    "slideshow": {
     "slide_type": "subslide"
    }
   },
   "outputs": [],
   "source": [
    "# Settings\n",
    "n_samples = 200\n",
    "outliers_fraction = 0.25\n",
    "offset = 1\n",
    "\n",
    "# Generate data\n",
    "n_inliers = int((1. - outliers_fraction) * n_samples)\n",
    "n_outliers = int(outliers_fraction * n_samples)\n",
    "X1 = 0.3 * np.random.randn(n_inliers // 2, 2) - offset\n",
    "X2 = 0.3 * np.random.randn(n_inliers // 2, 2) + offset\n",
    "X = np.r_[X1, X2]\n",
    "X = np.r_[X, np.random.uniform(low=-6, high=6, size=(n_outliers, 2))]\n",
    "ground_truth = np.ones(n_samples, dtype=int)\n",
    "ground_truth[-n_outliers:] = 0 "
   ]
  },
  {
   "cell_type": "code",
   "execution_count": 7,
   "metadata": {
    "collapsed": false,
    "slideshow": {
     "slide_type": "subslide"
    }
   },
   "outputs": [
    {
     "data": {
      "text/plain": [
       "OneClassSVM(cache_size=200, coef0=0.0, degree=3, gamma=0.1, kernel='rbf',\n",
       "      max_iter=-1, nu=0.2875, random_state=None, shrinking=True, tol=0.001,\n",
       "      verbose=False)"
      ]
     },
     "execution_count": 7,
     "metadata": {},
     "output_type": "execute_result"
    }
   ],
   "source": [
    "from sklearn.svm import OneClassSVM\n",
    "from sklearn.covariance import EllipticEnvelope\n",
    "from sklearn.ensemble import IsolationForest\n",
    "\n",
    "# Train\n",
    "clf = OneClassSVM(nu=0.95 * outliers_fraction + 0.05, kernel=\"rbf\", gamma=0.1)\n",
    "# clf = EllipticEnvelope(contamination=.1)\n",
    "# clf = IsolationForest(max_samples=n_samples)\n",
    "clf.fit(X)"
   ]
  },
  {
   "cell_type": "code",
   "execution_count": 8,
   "metadata": {
    "collapsed": false,
    "slideshow": {
     "slide_type": "fragment"
    }
   },
   "outputs": [
    {
     "data": {
      "image/png": "[encoded data removed]",
      "text/plain": [
       "<matplotlib.figure.Figure at 0x7f86ec841e48>"
      ]
     },
     "metadata": {},
     "output_type": "display_data"
    }
   ],
   "source": [
    "# Plot\n",
    "plot_outlier_detector(clf, X, ground_truth)"
   ]
  },
  {
   "cell_type": "markdown",
   "metadata": {
    "slideshow": {
     "slide_type": "slide"
    }
   },
   "source": [
    "# Ensembling for robustness"
   ]
  },
  {
   "cell_type": "markdown",
   "metadata": {
    "slideshow": {
     "slide_type": "subslide"
    }
   },
   "source": [
    "## Bias-variance decomposition"
   ]
  },
  {
   "cell_type": "markdown",
   "metadata": {
    "slideshow": {
     "slide_type": "fragment"
    }
   },
   "source": [
    "__Theorem.__ For the _squared error loss_, the bias-variance decomposition of the expected\n",
    "generalization error at $X=\\mathbf{x}$ is\n",
    "\n",
    "$$\n",
    "\\mathbb{E}_{\\cal L} \\{ Err(\\varphi_{\\cal L}(\\mathbf{x})) \\} = \\text{noise}(\\mathbf{x}) + \\text{bias}^2(\\mathbf{x}) + \\text{var}(\\mathbf{x})\n",
    "$$\n",
    "\n"
   ]
  },
  {
   "cell_type": "markdown",
   "metadata": {
    "slideshow": {
     "slide_type": "subslide"
    }
   },
   "source": [
    "<center>\n",
    "    <img src=\"img/bv.png\" width=\"50%\" />\n",
    "</center>"
   ]
  },
  {
   "cell_type": "markdown",
   "metadata": {
    "slideshow": {
     "slide_type": "subslide"
    }
   },
   "source": [
    "## Variance and robustness\n",
    "\n",
    "- Low variance implies robustness to outliers\n",
    "- High variance implies sensitivity to data pecularities\n"
   ]
  },
  {
   "cell_type": "markdown",
   "metadata": {
    "slideshow": {
     "slide_type": "subslide"
    }
   },
   "source": [
    "## Ensembling reduces variance "
   ]
  },
  {
   "cell_type": "markdown",
   "metadata": {
    "slideshow": {
     "slide_type": "fragment"
    }
   },
   "source": [
    "__Theorem.__ For the _squared error loss_, the bias-variance decomposition of the expected generalization error at $X=x$ of an ensemble of $M$ randomized models $\\varphi_{{\\cal L},\\theta_m}$ is\n",
    "\n",
    "$$\n",
    "\\mathbb{E}_{\\cal L} \\{ Err(\\psi_{{\\cal L},\\theta_1,\\dots,\\theta_M}(\\mathbf{x})) \\} = \\text{noise}(\\mathbf{x}) + \\text{bias}^2(\\mathbf{x}) + \\text{var}(\\mathbf{x})\n",
    "$$"
   ]
  },
  {
   "cell_type": "markdown",
   "metadata": {
    "slideshow": {
     "slide_type": "fragment"
    }
   },
   "source": [
    "where\n",
    "\\begin{align*}\n",
    "\\text{noise}(\\mathbf{x}) &= Err(\\varphi_B(\\mathbf{x})), \\\\\n",
    "\\text{bias}^2(\\mathbf{x}) &= (\\varphi_B(\\mathbf{x}) - \\mathbb{E}_{{\\cal L},\\theta} \\{ \\varphi_{{\\cal L},\\theta}(\\mathbf{x}) \\} )^2, \\\\\n",
    "\\text{var}(\\mathbf{x}) &= \\rho(\\mathbf{x}) \\sigma^2_{{\\cal L},\\theta}(\\mathbf{x}) + \\frac{1 - \\rho(\\mathbf{x})}{M} \\sigma^2_{{\\cal L},\\theta}(\\mathbf{x}).\n",
    "\\end{align*}"
   ]
  },
  {
   "cell_type": "code",
   "execution_count": null,
   "metadata": {
    "collapsed": true,
    "slideshow": {
     "slide_type": "subslide"
    }
   },
   "outputs": [],
   "source": [
    "# Load data\n",
    "from sklearn.datasets import load_iris\n",
    "iris = load_iris()\n",
    "X = iris.data[:, [0, 1]]\n",
    "y = iris.target"
   ]
  },
  {
   "cell_type": "code",
   "execution_count": null,
   "metadata": {
    "collapsed": false,
    "slideshow": {
     "slide_type": "fragment"
    }
   },
   "outputs": [],
   "source": [
    "from sklearn.tree import DecisionTreeClassifier\n",
    "from sklearn.ensemble import RandomForestClassifier\n",
    "\n",
    "clf = DecisionTreeClassifier().fit(X, y)\n",
    "plot_surface(clf, X, y)\n",
    "clf = RandomForestClassifier(n_estimators=100).fit(X, y)\n",
    "plot_surface(clf, X, y)"
   ]
  },
  {
   "cell_type": "markdown",
   "metadata": {
    "slideshow": {
     "slide_type": "slide"
    }
   },
   "source": [
    "# Robust estimators\n"
   ]
  },
  {
   "cell_type": "code",
   "execution_count": null,
   "metadata": {
    "collapsed": true,
    "slideshow": {
     "slide_type": "subslide"
    }
   },
   "outputs": [],
   "source": [
    "## "
   ]
  },
  {
   "cell_type": "code",
   "execution_count": null,
   "metadata": {
    "collapsed": true
   },
   "outputs": [],
   "source": [
    "- add comments"
   ]
  },
  {
   "cell_type": "code",
   "execution_count": null,
   "metadata": {
    "collapsed": true,
    "slideshow": {
     "slide_type": "fragment"
    }
   },
   "outputs": [],
   "source": [
    "from sklearn.preprocessing import StandardScaler, RobustScaler\n",
    "\n",
    "# Generate data\n",
    "np.random.seed(42)\n",
    "n_datapoints = 100\n",
    "Cov = [[0.9, 0.0], [0.0, 20.0]]\n",
    "mu1 = [100.0, -3.0]\n",
    "mu2 = [101.0, -3.0]\n",
    "X1 = np.random.multivariate_normal(mean=mu1, cov=Cov, size=n_datapoints)\n",
    "X2 = np.random.multivariate_normal(mean=mu2, cov=Cov, size=n_datapoints)\n",
    "Y_train = np.hstack([[-1]*n_datapoints, [1]*n_datapoints])\n",
    "X_train = np.vstack([X1, X2])\n",
    "\n",
    "X1 = np.random.multivariate_normal(mean=mu1, cov=Cov, size=n_datapoints)\n",
    "X2 = np.random.multivariate_normal(mean=mu2, cov=Cov, size=n_datapoints)\n",
    "Y_test = np.hstack([[-1]*n_datapoints, [1]*n_datapoints])\n",
    "X_test = np.vstack([X1, X2])\n",
    "\n",
    "X_train[0, 0] = -1000  # a fairly large outlier"
   ]
  },
  {
   "cell_type": "code",
   "execution_count": null,
   "metadata": {
    "collapsed": true,
    "slideshow": {
     "slide_type": "fragment"
    }
   },
   "outputs": [],
   "source": [
    "# Scale data\n",
    "standard_scaler = StandardScaler()\n",
    "Xtr_s = standard_scaler.fit_transform(X_train)\n",
    "Xte_s = standard_scaler.transform(X_test)\n",
    "\n",
    "robust_scaler = RobustScaler()\n",
    "Xtr_r = robust_scaler.fit_transform(X_train)\n",
    "Xte_r = robust_scaler.transform(X_test)"
   ]
  },
  {
   "cell_type": "code",
   "execution_count": null,
   "metadata": {
    "collapsed": false,
    "slideshow": {
     "slide_type": "fragment"
    }
   },
   "outputs": [],
   "source": [
    "# Plot data\n",
    "fig, ax = plt.subplots(1, 3, figsize=(12, 4))\n",
    "ax[0].scatter(X_train[:, 0], X_train[:, 1],\n",
    "              color=np.where(Y_train > 0, 'r', 'b'))\n",
    "ax[1].scatter(Xtr_s[:, 0], Xtr_s[:, 1], color=np.where(Y_train > 0, 'r', 'b'))\n",
    "ax[2].scatter(Xtr_r[:, 0], Xtr_r[:, 1], color=np.where(Y_train > 0, 'r', 'b'))\n",
    "ax[0].set_title(\"Unscaled data\")\n",
    "ax[1].set_title(\"After standard scaling (zoomed in)\")\n",
    "ax[2].set_title(\"After robust scaling (zoomed in)\")\n",
    "# for the scaled data, we zoom in to the data center (outlier can't be seen!)\n",
    "for a in ax[1:]:\n",
    "    a.set_xlim(-3, 3)\n",
    "    a.set_ylim(-3, 3)\n",
    "plt.tight_layout()\n",
    "plt.show()"
   ]
  },
  {
   "cell_type": "code",
   "execution_count": null,
   "metadata": {
    "collapsed": false,
    "slideshow": {
     "slide_type": "fragment"
    }
   },
   "outputs": [],
   "source": [
    "# Classify using k-NN\n",
    "from sklearn.neighbors import KNeighborsClassifier\n",
    "\n",
    "knn = KNeighborsClassifier()\n",
    "knn.fit(Xtr_s, Y_train)\n",
    "acc_s = knn.score(Xte_s, Y_test)\n",
    "print(\"Test set accuracy using standard scaler: %.3f\" % acc_s)\n",
    "\n",
    "knn.fit(Xtr_r, Y_train)\n",
    "acc_r = knn.score(Xte_r, Y_test)\n",
    "print(\"Test set accuracy using robust scaler:   %.3f\" % acc_r)"
   ]
  },
  {
   "cell_type": "markdown",
   "metadata": {
    "slideshow": {
     "slide_type": "slide"
    }
   },
   "source": [
    "# Calibration"
   ]
  },
  {
   "cell_type": "code",
   "execution_count": null,
   "metadata": {
    "collapsed": true
   },
   "outputs": [],
   "source": [
    "- lien avec regression"
   ]
  },
  {
   "cell_type": "code",
   "execution_count": null,
   "metadata": {
    "collapsed": false
   },
   "outputs": [],
   "source": [
    "# %load http://scikit-learn.org/dev/_downloads/plot_calibration.py\n",
    "\"\"\"\n",
    "======================================\n",
    "Probability calibration of classifiers\n",
    "======================================\n",
    "\n",
    "When performing classification you often want to predict not only\n",
    "the class label, but also the associated probability. This probability\n",
    "gives you some kind of confidence on the prediction. However, not all\n",
    "classifiers provide well-calibrated probabilities, some being over-confident\n",
    "while others being under-confident. Thus, a separate calibration of predicted\n",
    "probabilities is often desirable as a postprocessing. This example illustrates\n",
    "two different methods for this calibration and evaluates the quality of the\n",
    "returned probabilities using Brier's score\n",
    "(see https://en.wikipedia.org/wiki/Brier_score).\n",
    "\n",
    "Compared are the estimated probability using a Gaussian naive Bayes classifier\n",
    "without calibration, with a sigmoid calibration, and with a non-parametric\n",
    "isotonic calibration. One can observe that only the non-parametric model is able\n",
    "to provide a probability calibration that returns probabilities close to the\n",
    "expected 0.5 for most of the samples belonging to the middle cluster with\n",
    "heterogeneous labels. This results in a significantly improved Brier score.\n",
    "\"\"\"\n",
    "print(__doc__)\n",
    "\n",
    "# Author: Mathieu Blondel <mathieu@mblondel.org>\n",
    "#         Alexandre Gramfort <alexandre.gramfort@telecom-paristech.fr>\n",
    "#         Balazs Kegl <balazs.kegl@gmail.com>\n",
    "#         Jan Hendrik Metzen <jhm@informatik.uni-bremen.de>\n",
    "# License: BSD Style.\n",
    "\n",
    "import numpy as np\n",
    "import matplotlib.pyplot as plt\n",
    "from matplotlib import cm\n",
    "\n",
    "from sklearn.datasets import make_blobs\n",
    "from sklearn.naive_bayes import GaussianNB\n",
    "from sklearn.metrics import brier_score_loss\n",
    "from sklearn.calibration import CalibratedClassifierCV\n",
    "from sklearn.model_selection import train_test_split\n",
    "\n",
    "\n",
    "n_samples = 50000\n",
    "n_bins = 3  # use 3 bins for calibration_curve as we have 3 clusters here\n",
    "\n",
    "# Generate 3 blobs with 2 classes where the second blob contains\n",
    "# half positive samples and half negative samples. Probability in this\n",
    "# blob is therefore 0.5.\n",
    "centers = [(-5, -5), (0, 0), (5, 5)]\n",
    "X, y = make_blobs(n_samples=n_samples, n_features=2, cluster_std=1.0,\n",
    "                  centers=centers, shuffle=False, random_state=42)\n",
    "\n",
    "y[:n_samples // 2] = 0\n",
    "y[n_samples // 2:] = 1\n",
    "sample_weight = np.random.RandomState(42).rand(y.shape[0])\n",
    "\n",
    "# split train, test for calibration\n",
    "X_train, X_test, y_train, y_test, sw_train, sw_test = \\\n",
    "    train_test_split(X, y, sample_weight, test_size=0.9, random_state=42)\n",
    "\n",
    "# Gaussian Naive-Bayes with no calibration\n",
    "clf = GaussianNB()\n",
    "clf.fit(X_train, y_train)  # GaussianNB itself does not support sample-weights\n",
    "prob_pos_clf = clf.predict_proba(X_test)[:, 1]\n",
    "\n",
    "# Gaussian Naive-Bayes with isotonic calibration\n",
    "clf_isotonic = CalibratedClassifierCV(clf, cv=2, method='isotonic')\n",
    "clf_isotonic.fit(X_train, y_train, sw_train)\n",
    "prob_pos_isotonic = clf_isotonic.predict_proba(X_test)[:, 1]\n",
    "\n",
    "# Gaussian Naive-Bayes with sigmoid calibration\n",
    "clf_sigmoid = CalibratedClassifierCV(clf, cv=2, method='sigmoid')\n",
    "clf_sigmoid.fit(X_train, y_train, sw_train)\n",
    "prob_pos_sigmoid = clf_sigmoid.predict_proba(X_test)[:, 1]\n",
    "\n",
    "print(\"Brier scores: (the smaller the better)\")\n",
    "\n",
    "clf_score = brier_score_loss(y_test, prob_pos_clf, sw_test)\n",
    "print(\"No calibration: %1.3f\" % clf_score)\n",
    "\n",
    "clf_isotonic_score = brier_score_loss(y_test, prob_pos_isotonic, sw_test)\n",
    "print(\"With isotonic calibration: %1.3f\" % clf_isotonic_score)\n",
    "\n",
    "clf_sigmoid_score = brier_score_loss(y_test, prob_pos_sigmoid, sw_test)\n",
    "print(\"With sigmoid calibration: %1.3f\" % clf_sigmoid_score)\n",
    "\n",
    "###############################################################################\n",
    "# Plot the data and the predicted probabilities\n",
    "plt.figure()\n",
    "y_unique = np.unique(y)\n",
    "colors = cm.rainbow(np.linspace(0.0, 1.0, y_unique.size))\n",
    "for this_y, color in zip(y_unique, colors):\n",
    "    this_X = X_train[y_train == this_y]\n",
    "    this_sw = sw_train[y_train == this_y]\n",
    "    plt.scatter(this_X[:, 0], this_X[:, 1], s=this_sw * 50, c=color, alpha=0.5,\n",
    "                label=\"Class %s\" % this_y)\n",
    "plt.legend(loc=\"best\")\n",
    "plt.title(\"Data\")\n",
    "\n",
    "plt.figure()\n",
    "order = np.lexsort((prob_pos_clf, ))\n",
    "plt.plot(prob_pos_clf[order], 'r', label='No calibration (%1.3f)' % clf_score)\n",
    "plt.plot(prob_pos_isotonic[order], 'g', linewidth=3,\n",
    "         label='Isotonic calibration (%1.3f)' % clf_isotonic_score)\n",
    "plt.plot(prob_pos_sigmoid[order], 'b', linewidth=3,\n",
    "         label='Sigmoid calibration (%1.3f)' % clf_sigmoid_score)\n",
    "plt.plot(np.linspace(0, y_test.size, 51)[1::2],\n",
    "         y_test[order].reshape(25, -1).mean(1),\n",
    "         'k', linewidth=3, label=r'Empirical')\n",
    "plt.ylim([-0.05, 1.05])\n",
    "plt.xlabel(\"Instances sorted according to predicted probability \"\n",
    "           \"(uncalibrated GNB)\")\n",
    "plt.ylabel(\"P(y=1)\")\n",
    "plt.legend(loc=\"upper left\")\n",
    "plt.title(\"Gaussian naive Bayes probabilities\")\n",
    "\n",
    "plt.show()\n"
   ]
  },
  {
   "cell_type": "markdown",
   "metadata": {
    "slideshow": {
     "slide_type": "slide"
    }
   },
   "source": [
    "# Summary\n",
    "\n",
    "For robust and calibrated estimators:\n",
    "- remove outliers before training;\n",
    "- reduce variance by ensembling estimators;\n",
    "- drive your analysis with loss functions that are robust to outliers;\n",
    "    - avoid the squared error loss!\n",
    "- calibrate the output of your classifier if probabilities are important for your problem."
   ]
  },
  {
   "cell_type": "code",
   "execution_count": null,
   "metadata": {
    "collapsed": false,
    "slideshow": {
     "slide_type": "subslide"
    }
   },
   "outputs": [],
   "source": [
    "questions?"
   ]
  }
 ],
 "metadata": {
  "celltoolbar": "Slideshow",
  "kernelspec": {
   "display_name": "Python 3",
   "language": "python",
   "name": "python3"
  },
  "language_info": {
   "codemirror_mode": {
    "name": "ipython",
    "version": 3
   },
   "file_extension": ".py",
   "mimetype": "text/x-python",
   "name": "python",
   "nbconvert_exporter": "python",
   "pygments_lexer": "ipython3",
   "version": "3.5.0"
  }
 },
 "nbformat": 4,
 "nbformat_minor": 0
}
